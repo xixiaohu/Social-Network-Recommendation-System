{
 "cells": [
  {
   "cell_type": "code",
   "execution_count": 1,
   "metadata": {},
   "outputs": [],
   "source": [
    "import pandas as pd\n",
    "\n",
    "#read csv files\n",
    "df_f=pd.read_csv(\"follows.csv\")\n",
    "df_i=pd.read_csv(\"interests.csv\")\n",
    "\n",
    "df_f.columns = df_f.columns.str.strip()\n",
    "df_i.columns = df_i.columns.str.strip()\n",
    "\n",
    "#one-hot coding\n",
    "df_i = pd.get_dummies(df_i,columns=['category'])\n",
    "df_i = df_i.groupby('user_id').sum()\n",
    "\n",
    "df_f = pd.get_dummies(df_f,columns=['followee_id'])\n",
    "df_f = df_f.groupby('follower_id').sum()\n",
    "df_f.index.names = ['user_id']"
   ]
  },
  {
   "cell_type": "code",
   "execution_count": 2,
   "metadata": {},
   "outputs": [],
   "source": [
    "#rename df_f columns\n",
    "df_f_cols= [df_f.columns.tolist()[i].strip('followee_id_') for i in range(len(df_f.columns.tolist()))]\n",
    "df_f.columns= df_f_cols"
   ]
  },
  {
   "cell_type": "code",
   "execution_count": 3,
   "metadata": {},
   "outputs": [
    {
     "data": {
      "text/plain": [
       "(2237, 4478)"
      ]
     },
     "execution_count": 3,
     "metadata": {},
     "output_type": "execute_result"
    }
   ],
   "source": [
    "#inner join two make both dataframes have same user_ids\n",
    "df_test1 = pd.DataFrame.join(df_i,df_f,on='user_id',how='inner')\n",
    "df_test1.shape"
   ]
  },
  {
   "cell_type": "code",
   "execution_count": 4,
   "metadata": {},
   "outputs": [],
   "source": [
    "#transpose datasets\n",
    "df_reduced_i = df_test1.T.iloc[:883].T\n",
    "df_reduced_f = df_test1.T.iloc[883:].T"
   ]
  },
  {
   "cell_type": "code",
   "execution_count": 5,
   "metadata": {},
   "outputs": [],
   "source": [
    "#transpose datasets\n",
    "df_f_t = df_reduced_f.T\n",
    "df_f_t.index.names=['followee_id']\n",
    "df_f_t.index=df_f_t.index.astype('int64')\n",
    "df_reduced_i.index.names = ['followee_id']"
   ]
  },
  {
   "cell_type": "code",
   "execution_count": 6,
   "metadata": {},
   "outputs": [
    {
     "data": {
      "text/plain": [
       "(2237, 3120)"
      ]
     },
     "execution_count": 6,
     "metadata": {},
     "output_type": "execute_result"
    }
   ],
   "source": [
    "#make followees are same as user_ids\n",
    "df_test2 = pd.DataFrame.merge(df_reduced_i,df_f_t,left_index=True, right_index=True)\n",
    "df_test2.index.names=['user_id']\n",
    "df_test2.shape"
   ]
  },
  {
   "cell_type": "code",
   "execution_count": 7,
   "metadata": {},
   "outputs": [],
   "source": [
    "#transpose back to origin dataframes\n",
    "df_interest = df_test2.T.iloc[:883].T\n",
    "df_followee = df_test2.T.iloc[883:].T"
   ]
  },
  {
   "cell_type": "code",
   "execution_count": 8,
   "metadata": {},
   "outputs": [
    {
     "data": {
      "text/plain": [
       "(2237, 2237)"
      ]
     },
     "execution_count": 8,
     "metadata": {},
     "output_type": "execute_result"
    }
   ],
   "source": [
    "import numpy as np\n",
    "\n",
    "#create matrix and calculate correlation\n",
    "imatrix = df_interest.values\n",
    "icorr = np.corrcoef(imatrix)\n",
    "icorr.shape"
   ]
  },
  {
   "cell_type": "code",
   "execution_count": 9,
   "metadata": {},
   "outputs": [],
   "source": [
    "user_id = df_interest.index.values\n",
    "followee_id = df_followee.columns.values\n",
    "\n",
    "#create predicition matrix for recommended followees\n",
    "df_recom_uf = pd.DataFrame(columns =df_followee.columns.tolist(), index =df_followee.index.tolist())"
   ]
  },
  {
   "cell_type": "code",
   "execution_count": 10,
   "metadata": {},
   "outputs": [
    {
     "name": "stderr",
     "output_type": "stream",
     "text": [
      "/anaconda3/lib/python3.6/site-packages/ipykernel_launcher.py:11: SettingWithCopyWarning: \n",
      "A value is trying to be set on a copy of a slice from a DataFrame.\n",
      "Try using .loc[row_indexer,col_indexer] = value instead\n",
      "\n",
      "See the caveats in the documentation: http://pandas.pydata.org/pandas-docs/stable/indexing.html#indexing-view-versus-copy\n",
      "  # This is added back by InteractiveShellApp.init_path()\n",
      "/anaconda3/lib/python3.6/site-packages/ipykernel_launcher.py:12: SettingWithCopyWarning: \n",
      "A value is trying to be set on a copy of a slice from a DataFrame.\n",
      "Try using .loc[row_indexer,col_indexer] = value instead\n",
      "\n",
      "See the caveats in the documentation: http://pandas.pydata.org/pandas-docs/stable/indexing.html#indexing-view-versus-copy\n",
      "  if sys.path[0] == '':\n"
     ]
    }
   ],
   "source": [
    "#Correlation model starts\n",
    "for n in range(0, icorr.shape[0]):\n",
    "    \n",
    "    #create a df to sort corr of each user to user n\n",
    "    corrdata = {'user_id': user_id, 'corr': icorr[n]}\n",
    "    df_corr = pd.DataFrame(data=corrdata)\n",
    "    df_corr = df_corr.sort_values(by=['corr'], axis=0, ascending=False)\n",
    "    \n",
    "    #get 5 users with highest corr score which means they are the most similar user to user n\n",
    "    recom_corr = df_corr[:5]\n",
    "    #calculate weights of each 5 users\n",
    "    recom_corr['sum'] = [recom_corr['corr'].sum()] * 5\n",
    "    recom_corr['proportion'] = recom_corr['corr'] / recom_corr['sum']\n",
    "    #get followees of 5 users\n",
    "    df_user_filtering = pd.DataFrame.join(recom_corr,df_followee,on='user_id',how='inner')\n",
    "    \n",
    "    #calculate recommendation scores of each user (2237) by multiplying proportion column and value of each user\n",
    "    sum_uf = df_user_filtering.iloc[:, 2]\n",
    "    score_uf = []\n",
    "    for m in range(4, 2241):\n",
    "        interest_uf = df_user_filtering.iloc[:, m]\n",
    "        total_uf = sum((sum_uf * interest_uf).tolist())\n",
    "        score_uf.append(total_uf)\n",
    "    \n",
    "    #create a df to sort recommendation score of 2237 users\n",
    "    re_uf = {'user_id': followee_id, 'score': score_uf}\n",
    "    df_uf = pd.DataFrame(data=re_uf)\n",
    "    df_uf = df_uf.sort_values(by=['score'], axis=0, ascending=False)\n",
    "    \n",
    "    #get number of followees n already followed\n",
    "    nrecommendation = df_followee.loc[followee_id[n]].sum()\n",
    "    #get top nth recommenders\n",
    "    recom_uf = df_uf[:nrecommendation]\n",
    "    recom_uf_id = recom_uf.user_id.values.tolist()\n",
    "    \n",
    "    #insert value into recommendation matrix\n",
    "    df_recom_uf.at[followee_id[n], recom_uf_id] = 1\n",
    "    #df_recom_uf.iloc[n].value_counts()"
   ]
  },
  {
   "cell_type": "code",
   "execution_count": 11,
   "metadata": {},
   "outputs": [],
   "source": [
    "from sklearn.metrics import precision_score\n",
    "from statistics import mean\n",
    "def prec_score(df_true, df_prediction): \n",
    "    pre = [precision_score(df_true.loc[i],df_prediction.loc[i])for i in df_prediction.index.values ]\n",
    "    return mean(pre)"
   ]
  },
  {
   "cell_type": "code",
   "execution_count": 12,
   "metadata": {},
   "outputs": [],
   "source": [
    "from sklearn.metrics import f1_score\n",
    "def fone_score(df_true, df_prediction):\n",
    "    f1 = [f1_score(df_true.loc[i],df_prediction.loc[i]) for i in df_prediction.index.values]\n",
    "    return mean(f1)"
   ]
  },
  {
   "cell_type": "code",
   "execution_count": 15,
   "metadata": {},
   "outputs": [],
   "source": [
    "#prediction/ recommended followee\n",
    "df_pred = df_recom_uf.fillna(0)\n",
    "df_true = df_followee"
   ]
  },
  {
   "cell_type": "code",
   "execution_count": 16,
   "metadata": {},
   "outputs": [
    {
     "name": "stdout",
     "output_type": "stream",
     "text": [
      "precision_score is:  0.856619686079582\n",
      "f1_score is:  0.856619686079582\n"
     ]
    }
   ],
   "source": [
    "print(\"precision_score is: \",prec_score(df_true,df_pred))\n",
    "print(\"f1_score is: \",fone_score(df_true,df_pred))"
   ]
  },
  {
   "cell_type": "code",
   "execution_count": null,
   "metadata": {},
   "outputs": [],
   "source": []
  }
 ],
 "metadata": {
  "kernelspec": {
   "display_name": "Python 3",
   "language": "python",
   "name": "python3"
  },
  "language_info": {
   "codemirror_mode": {
    "name": "ipython",
    "version": 3
   },
   "file_extension": ".py",
   "mimetype": "text/x-python",
   "name": "python",
   "nbconvert_exporter": "python",
   "pygments_lexer": "ipython3",
   "version": "3.6.8"
  }
 },
 "nbformat": 4,
 "nbformat_minor": 2
}
