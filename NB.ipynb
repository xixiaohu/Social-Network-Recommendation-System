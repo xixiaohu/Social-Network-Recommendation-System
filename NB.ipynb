{
 "cells": [
  {
   "cell_type": "code",
   "execution_count": 4,
   "metadata": {},
   "outputs": [],
   "source": [
    "import pandas as pd\n",
    "\n",
    "#read csv files\n",
    "df_f=pd.read_csv(\"follows.csv\")\n",
    "df_i=pd.read_csv(\"interests.csv\")\n",
    "\n",
    "df_f.columns = df_f.columns.str.strip()\n",
    "df_i.columns = df_i.columns.str.strip()\n",
    "\n",
    "#one-hot coding\n",
    "df_i = pd.get_dummies(df_i,columns=['category'])\n",
    "df_i = df_i.groupby('user_id').sum()\n",
    "\n",
    "df_f = pd.get_dummies(df_f,columns=['followee_id'])\n",
    "df_f = df_f.groupby('follower_id').sum()\n",
    "df_f.index.names = ['user_id']"
   ]
  },
  {
   "cell_type": "code",
   "execution_count": 5,
   "metadata": {},
   "outputs": [],
   "source": [
    "#rename df_f columns\n",
    "df_f_cols= [df_f.columns.tolist()[i].strip('followee_id_') for i in range(len(df_f.columns.tolist()))]\n",
    "df_f.columns= df_f_cols"
   ]
  },
  {
   "cell_type": "code",
   "execution_count": 6,
   "metadata": {},
   "outputs": [
    {
     "data": {
      "text/plain": [
       "(2237, 4478)"
      ]
     },
     "execution_count": 6,
     "metadata": {},
     "output_type": "execute_result"
    }
   ],
   "source": [
    "#inner join two make both dataframes have same user_ids\n",
    "df_test1 = pd.DataFrame.join(df_i,df_f,on='user_id',how='inner')\n",
    "df_test1.shape"
   ]
  },
  {
   "cell_type": "code",
   "execution_count": 7,
   "metadata": {},
   "outputs": [],
   "source": [
    "#transpose datasets\n",
    "df_reduced_i = df_test1.T.iloc[:883].T\n",
    "df_reduced_f = df_test1.T.iloc[883:].T"
   ]
  },
  {
   "cell_type": "code",
   "execution_count": 8,
   "metadata": {},
   "outputs": [],
   "source": [
    "#transpose datasets\n",
    "df_f_t = df_reduced_f.T\n",
    "df_f_t.index.names=['followee_id']\n",
    "df_f_t.index=df_f_t.index.astype('int64')\n",
    "df_reduced_i.index.names = ['followee_id']"
   ]
  },
  {
   "cell_type": "code",
   "execution_count": 9,
   "metadata": {},
   "outputs": [
    {
     "data": {
      "text/plain": [
       "(2237, 3120)"
      ]
     },
     "execution_count": 9,
     "metadata": {},
     "output_type": "execute_result"
    }
   ],
   "source": [
    "#make followees are same as user_ids\n",
    "df_test2 = pd.DataFrame.merge(df_reduced_i,df_f_t,left_index=True, right_index=True)\n",
    "df_test2.index.names=['user_id']\n",
    "df_test2.shape"
   ]
  },
  {
   "cell_type": "code",
   "execution_count": 10,
   "metadata": {},
   "outputs": [],
   "source": [
    "#transpose back to origin dataframes\n",
    "df_interest = df_test2.T.iloc[:883].T\n",
    "df_followee = df_test2.T.iloc[883:].T"
   ]
  },
  {
   "cell_type": "code",
   "execution_count": 11,
   "metadata": {},
   "outputs": [],
   "source": [
    "#create a default df for probability\n",
    "df_prob = pd.DataFrame(columns =df_followee.columns.tolist() ,index =df_followee.index.tolist() )"
   ]
  },
  {
   "cell_type": "code",
   "execution_count": 19,
   "metadata": {},
   "outputs": [
    {
     "name": "stderr",
     "output_type": "stream",
     "text": [
      "/anaconda/envs/py35/lib/python3.5/site-packages/sklearn/naive_bayes.py:461: RuntimeWarning: divide by zero encountered in log\n",
      "  self.class_log_prior_ = (np.log(self.class_count_) -\n"
     ]
    }
   ],
   "source": [
    "import numpy as np\n",
    "from sklearn.naive_bayes import BernoulliNB\n",
    "\n",
    "# for each followee, train a model\n",
    "for i in range(2237):\n",
    "    clf = BernoulliNB()\n",
    "    clf.fit(df_interest, df_followee.iloc[:,i])\n",
    "    \n",
    "    # for each follower, predict if he/she will follow this followee\n",
    "    for n in range(2237):\n",
    "        #prob of 1\n",
    "        prob = clf.predict_proba(np.array(df_interest.iloc[n]).reshape(1,-1))[:, 1]\n",
    "        df_prob.at[df_followee.index[n], df_followee.index[i]] = prob\n"
   ]
  },
  {
   "cell_type": "code",
   "execution_count": 20,
   "metadata": {},
   "outputs": [],
   "source": [
    "#create predicition matrix for recommended followees\n",
    "df_recom_nb = pd.DataFrame(columns =df_followee.columns.tolist(), index =df_followee.index.tolist())"
   ]
  },
  {
   "cell_type": "code",
   "execution_count": 36,
   "metadata": {},
   "outputs": [],
   "source": [
    "user_id = df_interest.index.values\n",
    "\n",
    "\n",
    "for m in range(2237):\n",
    "    \n",
    "    #create a probability dataframe to sort out the foloowees with higher probability\n",
    "    prob_m = df_prob.iloc[m]\n",
    "    data_nb = {'user_id': user_id, 'prob': prob_m}\n",
    "    df_nb = pd.DataFrame(data=data_nb)\n",
    "    df_nb_sort = df_nb.sort_values(by=['prob'], axis=0, ascending=False)\n",
    "    \n",
    "    #generate the recommendation followees for each id\n",
    "    for n in range(2237):\n",
    "        nrecommendation = df_followee.iloc[n].sum()\n",
    "        recom_nb_id = df_nb_sort.user_id.values.tolist()[:nrecommendation]\n",
    "        df_recom_nb.at[user_id[n], recom_nb_id] = 1\n",
    "\n"
   ]
  },
  {
   "cell_type": "code",
   "execution_count": 37,
   "metadata": {},
   "outputs": [],
   "source": [
    "from sklearn.metrics import precision_score\n",
    "from statistics import mean\n",
    "\n",
    "#precision score function\n",
    "def prec_score(df_true, df_prediction): \n",
    "    pre = [precision_score(df_true.loc[i],df_prediction.loc[i])for i in df_prediction.index.values ]\n",
    "    return mean(pre)"
   ]
  },
  {
   "cell_type": "code",
   "execution_count": 38,
   "metadata": {},
   "outputs": [],
   "source": [
    "from sklearn.metrics import f1_score\n",
    "\n",
    "#f1 score function\n",
    "def fone_score(df_true, df_prediction):\n",
    "    f1 = [f1_score(df_true.loc[i],df_prediction.loc[i]) for i in df_prediction.index.values]\n",
    "    return mean(f1)"
   ]
  },
  {
   "cell_type": "code",
   "execution_count": 39,
   "metadata": {},
   "outputs": [],
   "source": [
    "#prediction/ recommended followee\n",
    "df_pred = df_recom_nb.fillna(0)\n",
    "df_true = df_followee"
   ]
  },
  {
   "cell_type": "code",
   "execution_count": 40,
   "metadata": {},
   "outputs": [
    {
     "name": "stdout",
     "output_type": "stream",
     "text": [
      "precision_score is:  0.5707878592168595\n",
      "f1_score is:  0.6061809129037916\n"
     ]
    }
   ],
   "source": [
    "print(\"precision_score is: \",prec_score(df_true,df_pred))\n",
    "print(\"f1_score is: \",fone_score(df_true,df_pred))"
   ]
  },
  {
   "cell_type": "code",
   "execution_count": null,
   "metadata": {},
   "outputs": [],
   "source": []
  }
 ],
 "metadata": {
  "kernelspec": {
   "display_name": "Python 3",
   "language": "python",
   "name": "python3"
  },
  "language_info": {
   "codemirror_mode": {
    "name": "ipython",
    "version": 3
   },
   "file_extension": ".py",
   "mimetype": "text/x-python",
   "name": "python",
   "nbconvert_exporter": "python",
   "pygments_lexer": "ipython3",
   "version": "3.6.8"
  }
 },
 "nbformat": 4,
 "nbformat_minor": 2
}
