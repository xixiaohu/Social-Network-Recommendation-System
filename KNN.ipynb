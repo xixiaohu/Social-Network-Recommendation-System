{
 "cells": [
  {
   "cell_type": "code",
   "execution_count": 1,
   "metadata": {},
   "outputs": [],
   "source": [
    "import pandas as pd\n",
    "\n",
    "#read csv files\n",
    "df_f=pd.read_csv(\"follows.csv\")\n",
    "df_i=pd.read_csv(\"interests.csv\")\n",
    "\n",
    "df_f.columns = df_f.columns.str.strip()\n",
    "df_i.columns = df_i.columns.str.strip()\n",
    "\n",
    "#one-hot coding\n",
    "df_i = pd.get_dummies(df_i,columns=['category'])\n",
    "df_i = df_i.groupby('user_id').sum()\n",
    "\n",
    "df_f = pd.get_dummies(df_f,columns=['followee_id'])\n",
    "df_f = df_f.groupby('follower_id').sum()\n",
    "df_f.index.names = ['user_id']"
   ]
  },
  {
   "cell_type": "code",
   "execution_count": 2,
   "metadata": {},
   "outputs": [],
   "source": [
    "#rename df_f columns\n",
    "df_f_cols= [df_f.columns.tolist()[i].strip('followee_id_') for i in range(len(df_f.columns.tolist()))]\n",
    "df_f.columns= df_f_cols          "
   ]
  },
  {
   "cell_type": "code",
   "execution_count": 3,
   "metadata": {},
   "outputs": [
    {
     "data": {
      "text/plain": [
       "(2237, 4478)"
      ]
     },
     "execution_count": 3,
     "metadata": {},
     "output_type": "execute_result"
    }
   ],
   "source": [
    "#inner join two make both dataframes have same user_ids\n",
    "df_test1 = pd.DataFrame.join(df_i,df_f,on='user_id',how='inner')\n",
    "df_test1.shape"
   ]
  },
  {
   "cell_type": "code",
   "execution_count": 4,
   "metadata": {},
   "outputs": [],
   "source": [
    "#transpose datasets\n",
    "df_reduced_i = df_test1.T.iloc[:883].T\n",
    "df_reduced_f = df_test1.T.iloc[883:].T"
   ]
  },
  {
   "cell_type": "code",
   "execution_count": 5,
   "metadata": {},
   "outputs": [],
   "source": [
    "#transpose datasets\n",
    "df_f_t = df_reduced_f.T\n",
    "df_f_t.index.names=['followee_id']\n",
    "df_f_t.index=df_f_t.index.astype('int64')\n",
    "df_reduced_i.index.names = ['followee_id']"
   ]
  },
  {
   "cell_type": "code",
   "execution_count": 6,
   "metadata": {},
   "outputs": [],
   "source": [
    "#make followees are same as user_ids\n",
    "df_test2 = pd.DataFrame.merge(df_reduced_i,df_f_t,left_index=True, right_index=True)\n",
    "df_test2.index.names=['user_id']"
   ]
  },
  {
   "cell_type": "code",
   "execution_count": 7,
   "metadata": {},
   "outputs": [],
   "source": [
    "#transpose back to origin dataframes\n",
    "df_interest = df_test2.T.iloc[:883].T\n",
    "df_followee = df_test2.T.iloc[883:].T"
   ]
  },
  {
   "cell_type": "code",
   "execution_count": 8,
   "metadata": {},
   "outputs": [],
   "source": [
    "import sklearn\n",
    "from sklearn.neighbors import NearestNeighbors\n",
    "\n",
    "#create predicition matrix for recommended followees\n",
    "df_recom_c = pd.DataFrame(columns =df_followee.columns.tolist() ,index =df_followee.index.tolist() )\n",
    "df_recom_j = pd.DataFrame(columns =df_followee.columns.tolist() ,index =df_followee.index.tolist() )"
   ]
  },
  {
   "cell_type": "code",
   "execution_count": 10,
   "metadata": {},
   "outputs": [],
   "source": [
    "#KNN model - consine matric\n",
    "for n in df_interest.index.values:\n",
    "    \n",
    "    nrecommendation = df_followee.loc[n].sum()\n",
    "\n",
    "    #build the model\n",
    "    model_knn_c = NearestNeighbors(metric = 'cosine', algorithm = 'auto')\n",
    "    model_knn_c.fit(df_interest.values)\n",
    "    \n",
    "    #generate the recommendation followees for each id\n",
    "    distances_c, indices_c = model_knn_c.kneighbors(df_interest.loc[n, :].values.reshape(1, -1), n_neighbors = nrecommendation)\n",
    "    df_recom_c.at[n ,df_interest.index[indices_c.flatten()].values] = 1"
   ]
  },
  {
   "cell_type": "code",
   "execution_count": 11,
   "metadata": {},
   "outputs": [],
   "source": [
    "#KNN model - jaccard matric\n",
    "for n in df_interest.index.values:\n",
    "    \n",
    "    nrecommendation = df_followee.loc[n].sum()\n",
    "\n",
    "    #build the model\n",
    "    model_knn_j = NearestNeighbors(metric = 'jaccard', algorithm = 'auto')\n",
    "    model_knn_j.fit(df_interest.values)\n",
    "    \n",
    "    #generate the recommendation followees for each id\n",
    "    distances_j, indices_j = model_knn_j.kneighbors(df_interest.loc[n, :].values.reshape(1, -1), n_neighbors = nrecommendation)\n",
    "    df_recom_j.at[n ,df_interest.index[indices_j.flatten()].values] = 1"
   ]
  },
  {
   "cell_type": "code",
   "execution_count": 12,
   "metadata": {},
   "outputs": [],
   "source": [
    "from sklearn.metrics import precision_score\n",
    "from statistics import mean\n",
    "\n",
    "#precision score function\n",
    "def prec_score(df_true, df_prediction):\n",
    "    pre = [precision_score(df_true.loc[i],df_prediction.loc[i])for i in df_prediction.index.values ]\n",
    "    return mean(pre)"
   ]
  },
  {
   "cell_type": "code",
   "execution_count": 13,
   "metadata": {},
   "outputs": [],
   "source": [
    "from sklearn.metrics import f1_score\n",
    "\n",
    "#f1 score function\n",
    "def fone_score(df_true, df_prediction):\n",
    "    f1 = [f1_score(df_true.loc[i],df_prediction.loc[i]) for i in df_prediction.index.values]\n",
    "    return mean(f1)"
   ]
  },
  {
   "cell_type": "code",
   "execution_count": 14,
   "metadata": {},
   "outputs": [],
   "source": [
    "#prediction/ recommended followee of cosine\n",
    "df_pred_c = df_recom_c.fillna(0)\n",
    "df_true_c = df_followee\n",
    "\n",
    "#prediction/ recommended followee of jaccard\n",
    "df_pred_j = df_recom_j.fillna(0)\n",
    "df_true_j = df_followee"
   ]
  },
  {
   "cell_type": "code",
   "execution_count": 15,
   "metadata": {},
   "outputs": [
    {
     "name": "stdout",
     "output_type": "stream",
     "text": [
      "precision_score for cosine matric is:  0.13626048387793355\n",
      "f1_score is:  0.13626048387793355\n"
     ]
    }
   ],
   "source": [
    "print(\"precision_score for cosine matric is: \",prec_score(df_true_c,df_pred_c))\n",
    "print(\"f1_score is: \",fone_score(df_true_c,df_pred_c))"
   ]
  },
  {
   "cell_type": "code",
   "execution_count": 16,
   "metadata": {},
   "outputs": [
    {
     "name": "stdout",
     "output_type": "stream",
     "text": [
      "precision_score for jaccard matric is:  0.20328113039558496\n",
      "f1_score is:  0.20328113039558496\n"
     ]
    }
   ],
   "source": [
    "print(\"precision_score for jaccard matric is: \",prec_score(df_true_j,df_pred_j))\n",
    "print(\"f1_score is: \",fone_score(df_true_j,df_pred_j))"
   ]
  }
 ],
 "metadata": {
  "kernelspec": {
   "display_name": "Python 3",
   "language": "python",
   "name": "python3"
  },
  "language_info": {
   "codemirror_mode": {
    "name": "ipython",
    "version": 3
   },
   "file_extension": ".py",
   "mimetype": "text/x-python",
   "name": "python",
   "nbconvert_exporter": "python",
   "pygments_lexer": "ipython3",
   "version": "3.6.8"
  }
 },
 "nbformat": 4,
 "nbformat_minor": 2
}
